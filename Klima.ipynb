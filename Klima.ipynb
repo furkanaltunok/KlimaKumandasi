{
 "cells": [
  {
   "cell_type": "code",
   "execution_count": null,
   "metadata": {},
   "outputs": [
    {
     "ename": "",
     "evalue": "",
     "output_type": "error",
     "traceback": [
      "\u001b[1;31m'Python 3.11.0 64-bit' ile hücreleri çalıştırmak için ipykernel paketi gerekir.\n",
      "\u001b[1;31mPython ortamına 'ipykernel' yüklemek için aşağıdaki komutu çalıştırın. \n",
      "\u001b[1;31mKomut: 'c:/Users/CBU/AppData/Local/Programs/Python/Python311/python.exe -m pip install ipykernel -U --user --force-reinstall'"
     ]
    }
   ],
   "source": [
    "class KlimaKumandasi():\n",
    "    def __init__(self, durum=\"KAPALI\", derece=24, mod=\"SOĞUTMA\", fan=\"ORTA\", turboMod = \"KAPALI\"):\n",
    "        self.durum = durum\n",
    "        self.derece =  derece\n",
    "        self.mod = mod\n",
    "        self.fan = fan\n",
    "        self.turboMod = turboMod\n",
    "\n",
    "    def acKapa(self):\n",
    "        if(self.durum == \"KAPALI\"):\n",
    "            self.durum == \"AÇIK\"\n",
    "        if(self.durum == \"AÇIK\"):\n",
    "            self.durum == \"KAPALI\"\n",
    "   \n",
    "    def turboAcKapa(self):\n",
    "        if(self.turboMod == \"KAPALI\"):\n",
    "            self.turboMod == \"AÇIK\"\n",
    "        else:\n",
    "            self.turboMod == \"KAPALI\"\n",
    "\n",
    "    def dereceArttir(self):\n",
    "        if(self.derece != 31):\n",
    "            self.derece+=1\n",
    "    \n",
    "    def dereceAzalt(self):\n",
    "        if(self.derece != 16):\n",
    "            self.derece-=1\n",
    "\n",
    "    def modDegis(self):\n",
    "        if(self.mod == \"SOĞUTMA\"):\n",
    "            self.mod == \"ISITMA\"\n",
    "        if(self.mod == \"ISITMA\"):\n",
    "            self.mod == \"SOĞUTMA\"\n",
    "\n",
    "    def fanDegis (self):\n",
    "        if(self.turboMod == \"AÇIK\"):\n",
    "            print(\"Turbo mod açık olduğunda fan ayarları değiştirilemez.\")\n",
    "        if(self.fan == \"DÜŞÜK\"):\n",
    "            self.fan == \"ORTA\"\n",
    "        if(self.fan == \"ORTA\"):\n",
    "            self.fan == \"YÜKSEK\"\n",
    "        if(self.fan == \"YÜKSEK\"):\n",
    "            self.fan == \"DÜŞÜK\""
   ]
  }
 ],
 "metadata": {
  "kernelspec": {
   "display_name": "Python 3.11.0 64-bit",
   "language": "python",
   "name": "python3"
  },
  "language_info": {
   "codemirror_mode": {
    "name": "ipython",
    "version": 3
   },
   "file_extension": ".py",
   "mimetype": "text/x-python",
   "name": "python",
   "nbconvert_exporter": "python",
   "pygments_lexer": "ipython3",
   "version": "3.11.0"
  },
  "orig_nbformat": 4,
  "vscode": {
   "interpreter": {
    "hash": "fa8caf386488e887d62603e33166deacdb40d150724653b25f334f68b09b6549"
   }
  }
 },
 "nbformat": 4,
 "nbformat_minor": 2
}
